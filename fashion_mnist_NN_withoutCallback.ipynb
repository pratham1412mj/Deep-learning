{
  "nbformat": 4,
  "nbformat_minor": 0,
  "metadata": {
    "colab": {
      "name": "fashion_mnist_NN.ipynb",
      "provenance": [],
      "authorship_tag": "ABX9TyPGc0I6AixxYB/T6EXue35p",
      "include_colab_link": true
    },
    "kernelspec": {
      "name": "python3",
      "display_name": "Python 3"
    },
    "accelerator": "GPU"
  },
  "cells": [
    {
      "cell_type": "markdown",
      "metadata": {
        "id": "view-in-github",
        "colab_type": "text"
      },
      "source": [
        "<a href=\"https://colab.research.google.com/github/pratham1412mj/Deep-learning/blob/master/fashion_mnist_NN_withoutCallback.ipynb\" target=\"_parent\"><img src=\"https://colab.research.google.com/assets/colab-badge.svg\" alt=\"Open In Colab\"/></a>"
      ]
    },
    {
      "cell_type": "code",
      "metadata": {
        "id": "XS2j2pTQEARW",
        "colab_type": "code",
        "outputId": "d70dceb4-e031-44f2-fdfc-b01c6eb7a156",
        "colab": {
          "base_uri": "https://localhost:8080/",
          "height": 34
        }
      },
      "source": [
        "import tensorflow as tf\n",
        "print(tf.__version__)"
      ],
      "execution_count": 0,
      "outputs": [
        {
          "output_type": "stream",
          "text": [
            "1.15.0\n"
          ],
          "name": "stdout"
        }
      ]
    },
    {
      "cell_type": "code",
      "metadata": {
        "id": "tBGOftB0UueN",
        "colab_type": "code",
        "colab": {}
      },
      "source": [
        "class myCallback(tf.keras.callbacks.Callback):\n",
        "  def on_epoch_end(self,epoch,logs={}):\n",
        "    if(logs.get('acc')>0.6):\n",
        "      print(\"\\nReached 60% accuracy so cancelling training!\")\n",
        "      self.model.stop_training = True\n",
        "\n",
        "mnist = tf.keras.datasets.fashion_mnist"
      ],
      "execution_count": 0,
      "outputs": []
    },
    {
      "cell_type": "code",
      "metadata": {
        "id": "652A5COGVCJU",
        "colab_type": "code",
        "colab": {}
      },
      "source": [
        "(training_images, training_labels) , (test_images, test_labels) = mnist.load_data()"
      ],
      "execution_count": 0,
      "outputs": []
    },
    {
      "cell_type": "code",
      "metadata": {
        "id": "5mdaZpbYV2dE",
        "colab_type": "code",
        "outputId": "96178242-716c-4a23-840b-363249d161a6",
        "colab": {
          "base_uri": "https://localhost:8080/",
          "height": 1000
        }
      },
      "source": [
        "import matplotlib.pyplot as plt\n",
        "plt.imshow(training_images[2])\n",
        "print(training_labels[2])\n",
        "print(training_images[2])"
      ],
      "execution_count": 0,
      "outputs": [
        {
          "output_type": "stream",
          "text": [
            "0\n",
            "[[  0   0   0   0   0   0   0   0   0  22 118  24   0   0   0   0   0  48\n",
            "   88   5   0   0   0   0   0   0   0   0]\n",
            " [  0   0   0   0   0   0   0   0  12 100 212 205 185 179 173 186 193 221\n",
            "  142  85   0   0   0   0   0   0   0   0]\n",
            " [  0   0   0   0   0   0   0   0   0  85  76 199 225 248 255 238 226 157\n",
            "   68  80   0   0   0   0   0   0   0   0]\n",
            " [  0   0   0   0   0   0   0   0   0  91  69  91 201 218 225 209 158  61\n",
            "   93  72   0   0   0   0   0   0   0   0]\n",
            " [  0   0   0   0   0   0   0   0   0  79  89  61  59  87 108  75  56  76\n",
            "   97  73   0   0   0   0   0   0   0   0]\n",
            " [  0   0   0   0   0   0   0   0   0  75  89  80  80  67  63  73  83  80\n",
            "   96  72   0   0   0   0   0   0   0   0]\n",
            " [  0   0   0   0   0   0   0   0   0  77  88  77  80  83  83  83  83  81\n",
            "   95  76   0   0   0   0   0   0   0   0]\n",
            " [  0   0   0   0   0   0   0   0   0  89  96  80  83  81  84  85  85  85\n",
            "   97  84   0   0   0   0   0   0   0   0]\n",
            " [  0   0   0   0   0   0   0   0   0  93  97  81  85  84  85  87  88  84\n",
            "   99  87   0   0   0   0   0   0   0   0]\n",
            " [  0   0   0   0   0   0   0   0   0  95  87  84  87  88  85  87  87  84\n",
            "   92  87   0   0   0   0   0   0   0   0]\n",
            " [  0   0   0   0   0   0   0   0   0  97  87  87  85  88  87  87  87  88\n",
            "   85 107   0   0   0   0   0   0   0   0]\n",
            " [  0   0   0   0   0   0   0   0  17 100  88  87  87  88  87  87  85  89\n",
            "   77 118   8   0   0   0   0   0   0   0]\n",
            " [  0   0   0   0   0   0   0   0  10  93  87  87  87  87  87  88  87  89\n",
            "   80 103   0   0   0   0   0   0   0   0]\n",
            " [  0   0   0   0   0   0   0   0   9  96  87  87  87  87  87  88  87  88\n",
            "   87 103   0   0   0   0   0   0   0   0]\n",
            " [  0   0   0   0   0   0   0   0  12  96  85  87  87  87  85  87  87  88\n",
            "   89 100   2   0   0   0   0   0   0   0]\n",
            " [  0   0   0   0   0   0   0   0  20  95  84  88  85  87  88  88  88  89\n",
            "   88  99   8   0   0   0   0   0   0   0]\n",
            " [  0   0   0   0   0   0   0   0  21  96  85  87  85  88  88  88  88  89\n",
            "   89  99  10   0   0   0   0   0   0   0]\n",
            " [  0   0   0   0   0   0   0   0  24  96  85  87  85  87  88  88  89  88\n",
            "   91 102  14   0   0   0   0   0   0   0]\n",
            " [  0   0   0   0   0   0   0   0  25  93  84  88  87  87  87  87  87  89\n",
            "   91 103  29   0   0   0   0   0   0   0]\n",
            " [  0   0   0   0   0   0   0   0  30  95  85  88  88  87  87  87  87  89\n",
            "   88 102  37   0   0   0   0   0   0   0]\n",
            " [  0   0   0   0   0   0   0   0  34  96  88  87  87  87  87  87  87  85\n",
            "   85  97  38   0   0   0   0   0   0   0]\n",
            " [  0   0   0   0   0   0   0   0  40  96  87  85  87  87  87  87  87  85\n",
            "   84  92  49   0   0   0   0   0   0   0]\n",
            " [  0   0   0   0   0   0   0   0  46  95  83  84  87  87  87  87  87  87\n",
            "   84  87  84   0   0   0   0   0   0   0]\n",
            " [  0   0   0   0   0   0   0   0  72  95  85  84  85  88  87  87  89  87\n",
            "   85  83  63   0   0   0   0   0   0   0]\n",
            " [  0   0   0   0   0   0   0   0  64 100  84  87  88  85  88  88  84  87\n",
            "   83  95  53   0   0   0   0   0   0   0]\n",
            " [  0   0   0   0   0   0   0   0  10 102 100  91  91  89  85  84  84  87\n",
            "  108 106  14   0   0   0   0   0   0   0]\n",
            " [  0   0   0   0   0   0   0   0   0   8  73  93 104 107 103 103 106 102\n",
            "   75  10   0   0   0   0   0   0   0   0]\n",
            " [  0   0   0   0   0   0   0   0   1   0   0   0  18  42  57  56  32   8\n",
            "    0   0   1   0   0   0   0   0   0   0]]\n"
          ],
          "name": "stdout"
        },
        {
          "output_type": "display_data",
          "data": {
            "image/png": "[encoded data removed]",
            "text/plain": [
              "<Figure size 432x288 with 1 Axes>"
            ]
          },
          "metadata": {
            "tags": []
          }
        }
      ]
    },
    {
      "cell_type": "code",
      "metadata": {
        "id": "sXdcQfVlWTXa",
        "colab_type": "code",
        "colab": {}
      },
      "source": [
        "training_images = training_images / 255.0\n",
        "test_images = test_images / 255.0"
      ],
      "execution_count": 0,
      "outputs": []
    },
    {
      "cell_type": "code",
      "metadata": {
        "id": "vPGVjrcuXIdJ",
        "colab_type": "code",
        "colab": {}
      },
      "source": [
        "callbacks = myCallback()\n",
        "model = tf.keras.models.Sequential([tf.keras.layers.Flatten(),\n",
        "                                    tf.keras.layers.Dense(512, activation = tf.nn.relu),\n",
        "                                    tf.keras.layers.Dense(10, activation = tf.nn.softmax)])"
      ],
      "execution_count": 0,
      "outputs": []
    },
    {
      "cell_type": "code",
      "metadata": {
        "id": "03xpR5PLX6N9",
        "colab_type": "code",
        "outputId": "b145c968-e9d3-47ec-a13f-50e40f11067a",
        "colab": {
          "base_uri": "https://localhost:8080/",
          "height": 118
        }
      },
      "source": [
        "model.compile(optimizer = 'adam',\n",
        "              loss = 'sparse_categorical_crossentropy',\n",
        "              metrics=['accuracy'])\n",
        "model.fit(training_images, training_labels, epochs = 10, callbacks=[callbacks])"
      ],
      "execution_count": 0,
      "outputs": [
        {
          "output_type": "stream",
          "text": [
            "Train on 60000 samples\n",
            "Epoch 1/10\n",
            "59712/60000 [============================>.] - ETA: 0s - loss: 0.4739 - acc: 0.8307\n",
            "Reached 60% accuracy so cancelling training!\n",
            "60000/60000 [==============================] - 4s 71us/sample - loss: 0.4736 - acc: 0.8308\n"
          ],
          "name": "stdout"
        },
        {
          "output_type": "execute_result",
          "data": {
            "text/plain": [
              "<tensorflow.python.keras.callbacks.History at 0x7f5975fb5208>"
            ]
          },
          "metadata": {
            "tags": []
          },
          "execution_count": 14
        }
      ]
    },
    {
      "cell_type": "code",
      "metadata": {
        "id": "kLcvtRyYYjbz",
        "colab_type": "code",
        "outputId": "94604596-f547-4b11-a24c-7d87f48b371b",
        "colab": {
          "base_uri": "https://localhost:8080/",
          "height": 50
        }
      },
      "source": [
        "model.evaluate(test_images,test_labels)"
      ],
      "execution_count": 0,
      "outputs": [
        {
          "output_type": "stream",
          "text": [
            "10000/10000 [==============================] - 1s 51us/sample - loss: 0.4050 - acc: 0.8524\n"
          ],
          "name": "stdout"
        },
        {
          "output_type": "execute_result",
          "data": {
            "text/plain": [
              "[0.40499073696136473, 0.8524]"
            ]
          },
          "metadata": {
            "tags": []
          },
          "execution_count": 15
        }
      ]
    },
    {
      "cell_type": "code",
      "metadata": {
        "id": "Zu68RtzeILRm",
        "colab_type": "code",
        "colab": {}
      },
      "source": [
        ""
      ],
      "execution_count": 0,
      "outputs": []
    }
  ]
}