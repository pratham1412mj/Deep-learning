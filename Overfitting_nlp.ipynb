{
  "nbformat": 4,
  "nbformat_minor": 0,
  "metadata": {
    "accelerator": "GPU",
    "colab": {
      "name": "Overfitting_nlp.ipynb",
      "provenance": [],
      "toc_visible": true,
      "include_colab_link": true
    },
    "kernelspec": {
      "name": "python3",
      "display_name": "Python 3"
    }
  },
  "cells": [
    {
      "cell_type": "markdown",
      "metadata": {
        "id": "view-in-github",
        "colab_type": "text"
      },
      "source": [
        "<a href=\"https://colab.research.google.com/github/pratham1412mj/Deep-learning/blob/master/Overfitting_nlp.ipynb\" target=\"_parent\"><img src=\"https://colab.research.google.com/assets/colab-badge.svg\" alt=\"Open In Colab\"/></a>"
      ]
    },
    {
      "cell_type": "code",
      "metadata": {
        "id": "zX4Kg8DUTKWO",
        "colab_type": "code",
        "colab": {}
      },
      "source": [
        "#@title Licensed under the Apache License, Version 2.0 (the \"License\");\n",
        "# you may not use this file except in compliance with the License.\n",
        "# You may obtain a copy of the License at\n",
        "#\n",
        "# https://www.apache.org/licenses/LICENSE-2.0\n",
        "#\n",
        "# Unless required by applicable law or agreed to in writing, software\n",
        "# distributed under the License is distributed on an \"AS IS\" BASIS,\n",
        "# WITHOUT WARRANTIES OR CONDITIONS OF ANY KIND, either express or implied.\n",
        "# See the License for the specific language governing permissions and\n",
        "# limitations under the License."
      ],
      "execution_count": 0,
      "outputs": []
    },
    {
      "cell_type": "code",
      "metadata": {
        "colab_type": "code",
        "id": "hmA6EzkQJ5jt",
        "colab": {}
      },
      "source": [
        "import json\n",
        "import tensorflow as tf\n",
        "import csv\n",
        "import random\n",
        "import numpy as np\n",
        "\n",
        "from tensorflow.keras.preprocessing.text import Tokenizer\n",
        "from tensorflow.keras.preprocessing.sequence import pad_sequences\n",
        "from tensorflow.keras.utils import to_categorical\n",
        "from tensorflow.keras import regularizers\n",
        "\n",
        "\n",
        "embedding_dim = 100\n",
        "max_length = 16\n",
        "trunc_type='post'\n",
        "padding_type='post'\n",
        "oov_tok = \"<OOV>\"\n",
        "training_size=160000\n",
        "test_portion=.1\n",
        "\n",
        "corpus = []\n"
      ],
      "execution_count": 0,
      "outputs": []
    },
    {
      "cell_type": "code",
      "metadata": {
        "colab_type": "code",
        "id": "bM0l_dORKqE0",
        "outputId": "3e81dcf8-2794-44de-aef5-230d314c6652",
        "colab": {
          "base_uri": "https://localhost:8080/",
          "height": 202
        }
      },
      "source": [
        "# Note that I cleaned the Stanford dataset to remove LATIN1 encoding to make it easier for Python CSV reader\n",
        "# You can do that yourself with:\n",
        "# iconv -f LATIN1 -t UTF8 training.1600000.processed.noemoticon.csv -o training_cleaned.csv\n",
        "# I then hosted it on my site to make it easier to use in this notebook\n",
        "\n",
        "!wget --no-check-certificate \\\n",
        "    https://storage.googleapis.com/laurencemoroney-blog.appspot.com/training_cleaned.csv \\\n",
        "    -O /tmp/training_cleaned.csv\n",
        "\n",
        "num_sentences = 0\n",
        "\n",
        "with open(\"/tmp/training_cleaned.csv\") as csvfile:\n",
        "    reader = csv.reader(csvfile, delimiter=',')\n",
        "    for row in reader:\n",
        "      # Your Code here. Create list items where the first item is the text, found in row[5], and the second is the label. Note that the label is a '0' or a '4' in the text. When it's the former, make\n",
        "      # your label to be 0, otherwise 1. Keep a count of the number of sentences in num_sentences \n",
        "        list_item=[]\n",
        "        list_item.append(row[5])\n",
        "        this_label = row[0]\n",
        "        if this_label =='0':\n",
        "          list_item.append(0)\n",
        "        else:\n",
        "          list_item.append(1)\n",
        "        num_sentences = num_sentences + 1\n",
        "        corpus.append(list_item)\n"
      ],
      "execution_count": 0,
      "outputs": [
        {
          "output_type": "stream",
          "text": [
            "--2020-04-12 09:42:23--  https://storage.googleapis.com/laurencemoroney-blog.appspot.com/training_cleaned.csv\n",
            "Resolving storage.googleapis.com (storage.googleapis.com)... 74.125.206.128, 2a00:1450:400c:c0a::80\n",
            "Connecting to storage.googleapis.com (storage.googleapis.com)|74.125.206.128|:443... connected.\n",
            "HTTP request sent, awaiting response... 200 OK\n",
            "Length: 238942690 (228M) [application/octet-stream]\n",
            "Saving to: ‘/tmp/training_cleaned.csv’\n",
            "\n",
            "/tmp/training_clean 100%[===================>] 227.87M   162MB/s    in 1.4s    \n",
            "\n",
            "2020-04-12 09:42:25 (162 MB/s) - ‘/tmp/training_cleaned.csv’ saved [238942690/238942690]\n",
            "\n"
          ],
          "name": "stdout"
        }
      ]
    },
    {
      "cell_type": "code",
      "metadata": {
        "colab_type": "code",
        "id": "3kxblBUjEUX-",
        "outputId": "6a292ec3-696c-4bbb-c92f-29be757c8a91",
        "colab": {
          "base_uri": "https://localhost:8080/",
          "height": 67
        }
      },
      "source": [
        "print(num_sentences)\n",
        "print(len(corpus))\n",
        "print(corpus[1])\n",
        "\n",
        "# Expected Output:\n",
        "# 1600000\n",
        "# 1600000\n",
        "# [\"is upset that he can't update his Facebook by texting it... and might cry as a result  School today also. Blah!\", 0]"
      ],
      "execution_count": 0,
      "outputs": [
        {
          "output_type": "stream",
          "text": [
            "1600000\n",
            "1600000\n",
            "[\"is upset that he can't update his Facebook by texting it... and might cry as a result  School today also. Blah!\", 0]\n"
          ],
          "name": "stdout"
        }
      ]
    },
    {
      "cell_type": "code",
      "metadata": {
        "colab_type": "code",
        "id": "ohOGz24lsNAD",
        "colab": {}
      },
      "source": [
        "sentences=[]\n",
        "labels=[]\n",
        "random.shuffle(corpus)\n",
        "for x in range(training_size):\n",
        "    sentences.append(corpus[x][0])\n",
        "    labels.append(corpus[x][1])\n",
        "\n",
        "\n",
        "tokenizer = Tokenizer()\n",
        "tokenizer.fit_on_texts(sentences)\n",
        "\n",
        "word_index = tokenizer.word_index\n",
        "vocab_size=len(word_index)\n",
        "\n",
        "sequences = tokenizer.texts_to_sequences(sentences)\n",
        "padded = pad_sequences(sequences,maxlen=max_length,padding=padding_type,truncating=trunc_type)\n",
        "\n",
        "split = int(test_portion * training_size)\n",
        "\n",
        "test_sequences = padded[0:split]\n",
        "training_sequences = padded[split:training_size]\n",
        "test_labels = labels[0:split]\n",
        "training_labels = labels[split:training_size]"
      ],
      "execution_count": 0,
      "outputs": []
    },
    {
      "cell_type": "code",
      "metadata": {
        "colab_type": "code",
        "id": "gIrtRem1En3N",
        "outputId": "514be525-459d-46b5-abdd-35b78b0361ed",
        "colab": {
          "base_uri": "https://localhost:8080/",
          "height": 50
        }
      },
      "source": [
        "print(vocab_size)\n",
        "print(word_index['i'])\n",
        "# Expected Output\n",
        "# 138858\n",
        "# 1"
      ],
      "execution_count": 0,
      "outputs": [
        {
          "output_type": "stream",
          "text": [
            "139244\n",
            "1\n"
          ],
          "name": "stdout"
        }
      ]
    },
    {
      "cell_type": "code",
      "metadata": {
        "colab_type": "code",
        "id": "C1zdgJkusRh0",
        "outputId": "eeb8773e-7572-4d72-82af-31a252ce8ab5",
        "colab": {
          "base_uri": "https://localhost:8080/",
          "height": 202
        }
      },
      "source": [
        "# Note this is the 100 dimension version of GloVe from Stanford\n",
        "# I unzipped and hosted it on my site to make this notebook easier\n",
        "!wget --no-check-certificate \\\n",
        "    https://storage.googleapis.com/laurencemoroney-blog.appspot.com/glove.6B.100d.txt \\\n",
        "    -O /tmp/glove.6B.100d.txt\n",
        "embeddings_index = {};\n",
        "with open('/tmp/glove.6B.100d.txt') as f:\n",
        "    for line in f:\n",
        "        values = line.split();\n",
        "        word = values[0];\n",
        "        coefs = np.asarray(values[1:], dtype='float32');\n",
        "        embeddings_index[word] = coefs;\n",
        "\n",
        "embeddings_matrix = np.zeros((vocab_size+1, embedding_dim));\n",
        "for word, i in word_index.items():\n",
        "    embedding_vector = embeddings_index.get(word);\n",
        "    if embedding_vector is not None:\n",
        "        embeddings_matrix[i] = embedding_vector;"
      ],
      "execution_count": 0,
      "outputs": [
        {
          "output_type": "stream",
          "text": [
            "--2020-04-12 09:46:36--  https://storage.googleapis.com/laurencemoroney-blog.appspot.com/glove.6B.100d.txt\n",
            "Resolving storage.googleapis.com (storage.googleapis.com)... 64.233.184.128, 2a00:1450:400c:c04::80\n",
            "Connecting to storage.googleapis.com (storage.googleapis.com)|64.233.184.128|:443... connected.\n",
            "HTTP request sent, awaiting response... 200 OK\n",
            "Length: 347116733 (331M) [text/plain]\n",
            "Saving to: ‘/tmp/glove.6B.100d.txt’\n",
            "\n",
            "/tmp/glove.6B.100d. 100%[===================>] 331.04M   188MB/s    in 1.8s    \n",
            "\n",
            "2020-04-12 09:46:38 (188 MB/s) - ‘/tmp/glove.6B.100d.txt’ saved [347116733/347116733]\n",
            "\n"
          ],
          "name": "stdout"
        }
      ]
    },
    {
      "cell_type": "code",
      "metadata": {
        "colab_type": "code",
        "id": "71NLk_lpFLNt",
        "outputId": "63f10b70-d787-46c3-8191-9014ee286095",
        "colab": {
          "base_uri": "https://localhost:8080/",
          "height": 34
        }
      },
      "source": [
        "print(len(embeddings_matrix))\n",
        "# Expected Output\n",
        "# 138859"
      ],
      "execution_count": 0,
      "outputs": [
        {
          "output_type": "stream",
          "text": [
            "139245\n"
          ],
          "name": "stdout"
        }
      ]
    },
    {
      "cell_type": "code",
      "metadata": {
        "colab_type": "code",
        "id": "iKKvbuEBOGFz",
        "outputId": "f85bab2f-58ae-4db8-d2b6-facf21758866",
        "colab": {
          "base_uri": "https://localhost:8080/",
          "height": 1000
        }
      },
      "source": [
        "model = tf.keras.Sequential([\n",
        "    tf.keras.layers.Embedding(vocab_size+1, embedding_dim, input_length=max_length, weights=[embeddings_matrix], trainable=False),\n",
        "    tf.keras.layers.Dropout(0.2),\n",
        "    tf.keras.layers.Conv1D(64,5,activation='relu'),\n",
        "    tf.keras.layers.MaxPooling1D(pool_size=4),\n",
        "    tf.keras.layers.LSTM(64),\n",
        "    tf.keras.layers.Dense(1, activation='sigmoid')\n",
        "])\n",
        "model.compile(loss='binary_crossentropy',optimizer='adam',metrics=['accuracy'])\n",
        "model.summary()\n",
        "\n",
        "num_epochs = 50\n",
        "training_sequences = np.array(training_sequences)\n",
        "training_labels = np.array(training_labels)\n",
        "test_sequences=np.array(test_sequences)\n",
        "test_labels=np.array(test_labels)\n",
        "history = model.fit(training_sequences, training_labels, epochs=num_epochs, validation_data=(test_sequences, test_labels), verbose=2)\n",
        "\n",
        "print(\"Training Complete\")\n"
      ],
      "execution_count": 0,
      "outputs": [
        {
          "output_type": "stream",
          "text": [
            "Model: \"sequential_4\"\n",
            "_________________________________________________________________\n",
            "Layer (type)                 Output Shape              Param #   \n",
            "=================================================================\n",
            "embedding_4 (Embedding)      (None, 16, 100)           13924500  \n",
            "_________________________________________________________________\n",
            "dropout_4 (Dropout)          (None, 16, 100)           0         \n",
            "_________________________________________________________________\n",
            "conv1d_4 (Conv1D)            (None, 12, 64)            32064     \n",
            "_________________________________________________________________\n",
            "max_pooling1d_4 (MaxPooling1 (None, 3, 64)             0         \n",
            "_________________________________________________________________\n",
            "lstm_4 (LSTM)                (None, 64)                33024     \n",
            "_________________________________________________________________\n",
            "dense_4 (Dense)              (None, 1)                 65        \n",
            "=================================================================\n",
            "Total params: 13,989,653\n",
            "Trainable params: 65,153\n",
            "Non-trainable params: 13,924,500\n",
            "_________________________________________________________________\n",
            "Epoch 1/50\n",
            "4500/4500 - 21s - loss: 0.5658 - accuracy: 0.7010 - val_loss: 0.5411 - val_accuracy: 0.7209\n",
            "Epoch 2/50\n",
            "4500/4500 - 22s - loss: 0.5272 - accuracy: 0.7307 - val_loss: 0.5121 - val_accuracy: 0.7467\n",
            "Epoch 3/50\n",
            "4500/4500 - 21s - loss: 0.5117 - accuracy: 0.7440 - val_loss: 0.5048 - val_accuracy: 0.7516\n",
            "Epoch 4/50\n",
            "4500/4500 - 21s - loss: 0.4997 - accuracy: 0.7519 - val_loss: 0.5055 - val_accuracy: 0.7530\n",
            "Epoch 5/50\n",
            "4500/4500 - 22s - loss: 0.4911 - accuracy: 0.7567 - val_loss: 0.4987 - val_accuracy: 0.7551\n",
            "Epoch 6/50\n",
            "4500/4500 - 21s - loss: 0.4845 - accuracy: 0.7607 - val_loss: 0.5067 - val_accuracy: 0.7501\n",
            "Epoch 7/50\n",
            "4500/4500 - 21s - loss: 0.4772 - accuracy: 0.7668 - val_loss: 0.5004 - val_accuracy: 0.7599\n",
            "Epoch 8/50\n",
            "4500/4500 - 21s - loss: 0.4723 - accuracy: 0.7697 - val_loss: 0.4981 - val_accuracy: 0.7542\n",
            "Epoch 9/50\n",
            "4500/4500 - 21s - loss: 0.4679 - accuracy: 0.7707 - val_loss: 0.5021 - val_accuracy: 0.7512\n",
            "Epoch 10/50\n",
            "4500/4500 - 21s - loss: 0.4647 - accuracy: 0.7729 - val_loss: 0.5033 - val_accuracy: 0.7560\n",
            "Epoch 11/50\n",
            "4500/4500 - 21s - loss: 0.4617 - accuracy: 0.7762 - val_loss: 0.5031 - val_accuracy: 0.7536\n",
            "Epoch 12/50\n",
            "4500/4500 - 21s - loss: 0.4584 - accuracy: 0.7771 - val_loss: 0.5055 - val_accuracy: 0.7526\n",
            "Epoch 13/50\n",
            "4500/4500 - 21s - loss: 0.4570 - accuracy: 0.7783 - val_loss: 0.5094 - val_accuracy: 0.7515\n",
            "Epoch 14/50\n",
            "4500/4500 - 21s - loss: 0.4550 - accuracy: 0.7795 - val_loss: 0.5034 - val_accuracy: 0.7544\n",
            "Epoch 15/50\n",
            "4500/4500 - 21s - loss: 0.4503 - accuracy: 0.7827 - val_loss: 0.5065 - val_accuracy: 0.7542\n",
            "Epoch 16/50\n",
            "4500/4500 - 21s - loss: 0.4498 - accuracy: 0.7831 - val_loss: 0.5061 - val_accuracy: 0.7540\n",
            "Epoch 17/50\n",
            "4500/4500 - 21s - loss: 0.4478 - accuracy: 0.7829 - val_loss: 0.5064 - val_accuracy: 0.7536\n",
            "Epoch 18/50\n",
            "4500/4500 - 21s - loss: 0.4463 - accuracy: 0.7851 - val_loss: 0.5091 - val_accuracy: 0.7489\n",
            "Epoch 19/50\n",
            "4500/4500 - 21s - loss: 0.4445 - accuracy: 0.7852 - val_loss: 0.5160 - val_accuracy: 0.7509\n",
            "Epoch 20/50\n",
            "4500/4500 - 21s - loss: 0.4429 - accuracy: 0.7865 - val_loss: 0.5122 - val_accuracy: 0.7499\n",
            "Epoch 21/50\n",
            "4500/4500 - 21s - loss: 0.4413 - accuracy: 0.7875 - val_loss: 0.5126 - val_accuracy: 0.7498\n",
            "Epoch 22/50\n",
            "4500/4500 - 21s - loss: 0.4414 - accuracy: 0.7885 - val_loss: 0.5088 - val_accuracy: 0.7502\n",
            "Epoch 23/50\n",
            "4500/4500 - 21s - loss: 0.4413 - accuracy: 0.7886 - val_loss: 0.5116 - val_accuracy: 0.7483\n",
            "Epoch 24/50\n",
            "4500/4500 - 21s - loss: 0.4385 - accuracy: 0.7899 - val_loss: 0.5161 - val_accuracy: 0.7513\n",
            "Epoch 25/50\n",
            "4500/4500 - 21s - loss: 0.4386 - accuracy: 0.7899 - val_loss: 0.5192 - val_accuracy: 0.7464\n",
            "Epoch 26/50\n",
            "4500/4500 - 21s - loss: 0.4381 - accuracy: 0.7895 - val_loss: 0.5183 - val_accuracy: 0.7451\n",
            "Epoch 27/50\n",
            "4500/4500 - 21s - loss: 0.4366 - accuracy: 0.7906 - val_loss: 0.5110 - val_accuracy: 0.7526\n",
            "Epoch 28/50\n",
            "4500/4500 - 21s - loss: 0.4353 - accuracy: 0.7924 - val_loss: 0.5187 - val_accuracy: 0.7500\n",
            "Epoch 29/50\n",
            "4500/4500 - 21s - loss: 0.4350 - accuracy: 0.7924 - val_loss: 0.5235 - val_accuracy: 0.7439\n",
            "Epoch 30/50\n",
            "4500/4500 - 21s - loss: 0.4335 - accuracy: 0.7928 - val_loss: 0.5159 - val_accuracy: 0.7513\n",
            "Epoch 31/50\n",
            "4500/4500 - 22s - loss: 0.4336 - accuracy: 0.7921 - val_loss: 0.5191 - val_accuracy: 0.7497\n",
            "Epoch 32/50\n",
            "4500/4500 - 21s - loss: 0.4334 - accuracy: 0.7935 - val_loss: 0.5162 - val_accuracy: 0.7451\n",
            "Epoch 33/50\n",
            "4500/4500 - 21s - loss: 0.4329 - accuracy: 0.7930 - val_loss: 0.5189 - val_accuracy: 0.7462\n",
            "Epoch 34/50\n",
            "4500/4500 - 21s - loss: 0.4311 - accuracy: 0.7942 - val_loss: 0.5184 - val_accuracy: 0.7514\n",
            "Epoch 35/50\n",
            "4500/4500 - 21s - loss: 0.4315 - accuracy: 0.7942 - val_loss: 0.5195 - val_accuracy: 0.7494\n",
            "Epoch 36/50\n",
            "4500/4500 - 21s - loss: 0.4313 - accuracy: 0.7939 - val_loss: 0.5271 - val_accuracy: 0.7470\n",
            "Epoch 37/50\n",
            "4500/4500 - 21s - loss: 0.4310 - accuracy: 0.7936 - val_loss: 0.5178 - val_accuracy: 0.7486\n",
            "Epoch 38/50\n",
            "4500/4500 - 21s - loss: 0.4294 - accuracy: 0.7958 - val_loss: 0.5235 - val_accuracy: 0.7482\n",
            "Epoch 39/50\n",
            "4500/4500 - 21s - loss: 0.4302 - accuracy: 0.7946 - val_loss: 0.5140 - val_accuracy: 0.7505\n",
            "Epoch 40/50\n",
            "4500/4500 - 21s - loss: 0.4288 - accuracy: 0.7965 - val_loss: 0.5230 - val_accuracy: 0.7487\n",
            "Epoch 41/50\n",
            "4500/4500 - 21s - loss: 0.4275 - accuracy: 0.7963 - val_loss: 0.5193 - val_accuracy: 0.7452\n",
            "Epoch 42/50\n",
            "4500/4500 - 22s - loss: 0.4291 - accuracy: 0.7945 - val_loss: 0.5202 - val_accuracy: 0.7479\n",
            "Epoch 43/50\n",
            "4500/4500 - 21s - loss: 0.4284 - accuracy: 0.7960 - val_loss: 0.5218 - val_accuracy: 0.7498\n",
            "Epoch 44/50\n",
            "4500/4500 - 21s - loss: 0.4292 - accuracy: 0.7964 - val_loss: 0.5179 - val_accuracy: 0.7533\n",
            "Epoch 45/50\n",
            "4500/4500 - 22s - loss: 0.4279 - accuracy: 0.7964 - val_loss: 0.5153 - val_accuracy: 0.7507\n",
            "Epoch 46/50\n",
            "4500/4500 - 22s - loss: 0.4277 - accuracy: 0.7955 - val_loss: 0.5183 - val_accuracy: 0.7498\n",
            "Epoch 47/50\n",
            "4500/4500 - 21s - loss: 0.4275 - accuracy: 0.7968 - val_loss: 0.5207 - val_accuracy: 0.7485\n",
            "Epoch 48/50\n",
            "4500/4500 - 22s - loss: 0.4255 - accuracy: 0.7983 - val_loss: 0.5229 - val_accuracy: 0.7460\n",
            "Epoch 49/50\n",
            "4500/4500 - 21s - loss: 0.4277 - accuracy: 0.7972 - val_loss: 0.5149 - val_accuracy: 0.7494\n",
            "Epoch 50/50\n",
            "4500/4500 - 21s - loss: 0.4255 - accuracy: 0.7973 - val_loss: 0.5174 - val_accuracy: 0.7509\n",
            "Training Complete\n"
          ],
          "name": "stdout"
        }
      ]
    },
    {
      "cell_type": "code",
      "metadata": {
        "colab_type": "code",
        "id": "qxju4ItJKO8F",
        "outputId": "bea70c19-387f-4c66-ecf1-d7076f494fbe",
        "colab": {
          "base_uri": "https://localhost:8080/",
          "height": 606
        }
      },
      "source": [
        "import matplotlib.image  as mpimg\n",
        "import matplotlib.pyplot as plt\n",
        "\n",
        "#-----------------------------------------------------------\n",
        "# Retrieve a list of list results on training and test data\n",
        "# sets for each training epoch\n",
        "#-----------------------------------------------------------\n",
        "acc=history.history['accuracy']\n",
        "val_acc=history.history['val_accuracy']\n",
        "loss=history.history['loss']\n",
        "val_loss=history.history['val_loss']\n",
        "\n",
        "epochs=range(len(acc)) # Get number of epochs\n",
        "\n",
        "#------------------------------------------------\n",
        "# Plot training and validation accuracy per epoch\n",
        "#------------------------------------------------\n",
        "plt.plot(epochs, acc, 'r')\n",
        "plt.plot(epochs, val_acc, 'b')\n",
        "plt.title('Training and validation accuracy')\n",
        "plt.xlabel(\"Epochs\")\n",
        "plt.ylabel(\"Accuracy\")\n",
        "plt.legend([\"Accuracy\", \"Validation Accuracy\"])\n",
        "\n",
        "plt.figure()\n",
        "\n",
        "#------------------------------------------------\n",
        "# Plot training and validation loss per epoch\n",
        "#------------------------------------------------\n",
        "plt.plot(epochs, loss, 'r')\n",
        "plt.plot(epochs, val_loss, 'b')\n",
        "plt.title('Training and validation loss')\n",
        "plt.xlabel(\"Epochs\")\n",
        "plt.ylabel(\"Loss\")\n",
        "plt.legend([\"Loss\", \"Validation Loss\"])\n",
        "\n",
        "plt.figure()\n",
        "\n",
        "\n",
        "# Expected Output\n",
        "# A chart where the validation loss does not increase sharply!"
      ],
      "execution_count": 0,
      "outputs": [
        {
          "output_type": "execute_result",
          "data": {
            "text/plain": [
              "<Figure size 432x288 with 0 Axes>"
            ]
          },
          "metadata": {
            "tags": []
          },
          "execution_count": 27
        },
        {
          "output_type": "display_data",
          "data": {
            "image/png": "[encoded data removed]",
            "text/plain": [
              "<Figure size 432x288 with 1 Axes>"
            ]
          },
          "metadata": {
            "tags": [],
            "needs_background": "light"
          }
        },
        {
          "output_type": "display_data",
          "data": {
            "image/png": "[encoded data removed]",
            "text/plain": [
              "<Figure size 432x288 with 1 Axes>"
            ]
          },
          "metadata": {
            "tags": [],
            "needs_background": "light"
          }
        },
        {
          "output_type": "display_data",
          "data": {
            "text/plain": [
              "<Figure size 432x288 with 0 Axes>"
            ]
          },
          "metadata": {
            "tags": []
          }
        }
      ]
    },
    {
      "cell_type": "code",
      "metadata": {
        "id": "kmRnurzt6Fcb",
        "colab_type": "code",
        "colab": {}
      },
      "source": [
        ""
      ],
      "execution_count": 0,
      "outputs": []
    }
  ]
}